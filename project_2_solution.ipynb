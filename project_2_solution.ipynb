{
 "cells": [
  {
   "cell_type": "code",
   "execution_count": 1,
   "metadata": {},
   "outputs": [
    {
     "name": "stdout",
     "output_type": "stream",
     "text": [
      "Student_Name: Mehtab Alam\n",
      "SeatNo: B16158043\n",
      "Class: BS-SE-SEM-4\n",
      "Enter marks of the ENG subject: 77\n",
      "Enter marks of the URDU subject: 34\n",
      "Enter marks of the MATH subject: 78\n",
      "Enter marks of the CHEM subject: 23\n",
      "Enter marks of the BIO subject: 90\n",
      "Your Grade is B & Your Percentage is  60.4\n"
     ]
    }
   ],
   "source": [
    "#Write a program which takes 5 inputs from user for different subject’s marks, total it and generate mark sheet using grades?\n",
    "a = \"Student_Name: Mehtab Alam\"\n",
    "b = \"SeatNo: B16158043\"\n",
    "c = \"Class: BS-SE-SEM-4\"\n",
    "print(a + \"\\n\" + b + \"\\n\" + c)\n",
    "\n",
    "ENG = int(input(\"Enter marks of the ENG subject: \"))\n",
    "URDU = int(input(\"Enter marks of the URDU subject: \"))\n",
    "MATH = int(input(\"Enter marks of the MATH subject: \"))\n",
    "CHEM = int(input(\"Enter marks of the CHEM subject: \"))\n",
    "BIO = int(input(\"Enter marks of the BIO subject: \"))\n",
    "sum = ENG + URDU + MATH + CHEM + BIO\n",
    "percentage = sum*100/500\n",
    "\n",
    "if(percentage>=80):\n",
    " print(\"Your Grade is A+ & Your Percentage is \", percentage)\n",
    "\n",
    "elif(percentage>=70):\n",
    " print(\"Your Grade is A & Your Percentage is \", percentage )\n",
    "\n",
    "elif(percentage>=60):\n",
    " print(\"Your Grade is B & Your Percentage is \", percentage)\n",
    "\n",
    "elif(percentage>=50):\n",
    " print(\"Your Grade is C & Your Percentage is \", percentage )\n",
    "\n",
    "elif (percentage>=40):\n",
    " print(\"Your Grade is D & Your Percentage is \", percentage)\n",
    "\n",
    "elif (percentage>=33):\n",
    " print(\"Your Grade is E & Your Percentage is \", percentage)\n",
    "\n",
    "else:\n",
    " print( \"You are fail\")"
   ]
  },
  {
   "cell_type": "code",
   "execution_count": 4,
   "metadata": {},
   "outputs": [
    {
     "name": "stdout",
     "output_type": "stream",
     "text": [
      "Please enter a number: 4\n",
      "4  is EVEN.\n"
     ]
    }
   ],
   "source": [
    "# Write a program which take input from user and identify that the given number is even or odd?\n",
    "num = int(input(\"Please enter a number: \"))\n",
    "if num % 2 == 0:\n",
    "    print(num,\" is EVEN.\")\n",
    "else:\n",
    "    print(num,\" is ODD.\")"
   ]
  },
  {
   "cell_type": "code",
   "execution_count": 6,
   "metadata": {},
   "outputs": [
    {
     "name": "stdout",
     "output_type": "stream",
     "text": [
      "Length of your list is:  8\n"
     ]
    }
   ],
   "source": [
    "# Write a program which print the length of the list?\n",
    "\n",
    "my_list = [2,1,7,6,0,1,6,4]\n",
    "len_of_list = len(my_list)\n",
    "\n",
    "print(\"Length of your list is: \",len_of_list)"
   ]
  },
  {
   "cell_type": "code",
   "execution_count": 7,
   "metadata": {},
   "outputs": [
    {
     "name": "stdout",
     "output_type": "stream",
     "text": [
      "The sum of all nums in the list is:  27\n"
     ]
    }
   ],
   "source": [
    "# Write a Python program to sum all the numeric items in a list?\n",
    "\n",
    "my_list = [2,1,7,6,0,1,6,4]\n",
    "sum_of_nums=0\n",
    "\n",
    "for each_num in my_list:\n",
    "    sum_of_nums += each_num\n",
    "print(\"The sum of all nums in the list is: \",sum_of_nums)"
   ]
  },
  {
   "cell_type": "code",
   "execution_count": 8,
   "metadata": {},
   "outputs": [
    {
     "name": "stdout",
     "output_type": "stream",
     "text": [
      "The largest num in the list is:  7\n"
     ]
    }
   ],
   "source": [
    "# Write a Python program to get the largest number from a numeric list.\n",
    "\n",
    "my_list = [2,1,7,6,0,1,6,4]\n",
    "largest_num = max(my_list)\n",
    "print(\"The largest num in the list is: \",largest_num)"
   ]
  },
  {
   "cell_type": "code",
   "execution_count": 9,
   "metadata": {},
   "outputs": [
    {
     "name": "stdout",
     "output_type": "stream",
     "text": [
      "Nums less than five in the list are:  [1, 1, 2, 3]\n"
     ]
    }
   ],
   "source": [
    "# Take a list, say for example this one:\n",
    "# a = [1, 1, 2, 3, 5, 8, 13, 21, 34, 55, 89]\n",
    "# and write a program that prints out all the elements of the list that are less than 5.\n",
    "\n",
    "a = [1, 1, 2, 3, 5, 8, 13, 21, 34, 55, 89]\n",
    "nums_lessthan_five = []\n",
    "\n",
    "for each_num in a:\n",
    "    if each_num < 5:\n",
    "        nums_lessthan_five.append(each_num)\n",
    "\n",
    "print(\"Nums less than five in the list are: \",nums_lessthan_five)"
   ]
  },
  {
   "cell_type": "code",
   "execution_count": null,
   "metadata": {},
   "outputs": [],
   "source": []
  }
 ],
 "metadata": {
  "kernelspec": {
   "display_name": "Python 3",
   "language": "python",
   "name": "python3"
  },
  "language_info": {
   "codemirror_mode": {
    "name": "ipython",
    "version": 3
   },
   "file_extension": ".py",
   "mimetype": "text/x-python",
   "name": "python",
   "nbconvert_exporter": "python",
   "pygments_lexer": "ipython3",
   "version": "3.7.3"
  }
 },
 "nbformat": 4,
 "nbformat_minor": 2
}
