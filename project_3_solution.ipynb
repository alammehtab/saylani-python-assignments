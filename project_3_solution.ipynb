{
 "cells": [
  {
   "cell_type": "code",
   "execution_count": null,
   "metadata": {},
   "outputs": [
    {
     "name": "stdout",
     "output_type": "stream",
     "text": [
      "Please enter the first number: 3\n",
      "Please enter the second number: 5\n",
      "\n",
      "            What do you wanna do with these numbers?\n",
      "            1. Addition\n",
      "            2. Subtraction\n",
      "            3. Multiplication\n",
      "            4. Division\n",
      "            5. Power\n",
      "            5\n",
      "3 power 5 is 243.\n"
     ]
    }
   ],
   "source": [
    "# Make a calculator using Python with addition , subtraction , multiplication , division and power.\n",
    "while True:\n",
    "    a = int(input('Please enter the first number: '))    \n",
    "    b = int(input('Please enter the second number: '))\n",
    "    choice = int(input(\"\"\"\n",
    "            What do you wanna do with these numbers?\n",
    "            1. Addition\n",
    "            2. Subtraction\n",
    "            3. Multiplication\n",
    "            4. Division\n",
    "            5. Power\n",
    "            \"\"\"))\n",
    "    if choice == 1:\n",
    "        ans = a + b\n",
    "        print(f\"The addition of {a} and {b} is {ans}.\")\n",
    "    elif choice == 2:\n",
    "        ans = a - b\n",
    "        print(f\"The subtraction of {a} and {b} is {ans}.\")\n",
    "    elif choice == 3:\n",
    "        ans = a * b\n",
    "        print(f\"The multiplication of {a} and {b} is {ans}.\")\n",
    "    elif choice == 4:\n",
    "        ans = a / b\n",
    "        print(f\"The division of {a} and {b} is {ans}.\")\n",
    "    elif choice == 5:\n",
    "        ans = a ** b\n",
    "        print(f\"{a} power {b} is {ans}.\")\n",
    "    elif choice == 81 or choice == 113:\n",
    "        repeat == False\n",
    "    else:\n",
    "        print(\"Invalid input!\")"
   ]
  },
  {
   "cell_type": "code",
   "execution_count": 4,
   "metadata": {},
   "outputs": [
    {
     "name": "stdout",
     "output_type": "stream",
     "text": [
      "Enter the number you wanna find: 54\n",
      "54 doesn't exist in the list!\n"
     ]
    }
   ],
   "source": [
    "#Write a program to check if there is any numeric value in list using for loop\n",
    "num_list = [3,1,7,8,3,5,0,4,2,34,15]\n",
    "user_input = int(input('Enter the number you wanna find: '))\n",
    "if user_input in num_list:\n",
    "    print(f'{user_input} exists in the list!')\n",
    "else:\n",
    "    print(f'{user_input} doesn\\'t exist in the list!')"
   ]
  },
  {
   "cell_type": "code",
   "execution_count": 2,
   "metadata": {},
   "outputs": [
    {
     "data": {
      "text/plain": [
       "{1: 1, 2: 3, 3: 5, 4: 7}"
      ]
     },
     "execution_count": 2,
     "metadata": {},
     "output_type": "execute_result"
    }
   ],
   "source": [
    "#Write a Python script to add a key to a dictionary\n",
    "\n",
    "#creating a dictionary\n",
    "prime_nums = {\n",
    "    1: 1,\n",
    "    2: 3,\n",
    "    3: 5,\n",
    "}\n",
    "\n",
    "#updating the dictionary\n",
    "prime_nums.update({4:7})\n",
    "\n",
    "#printing the updated dictionary\n",
    "prime_nums"
   ]
  },
  {
   "cell_type": "code",
   "execution_count": 3,
   "metadata": {},
   "outputs": [
    {
     "name": "stdout",
     "output_type": "stream",
     "text": [
      "The sum of all integers in prime_nums is: 16\n"
     ]
    }
   ],
   "source": [
    "# Write a Python program to sum all the numeric items in a dictionary\n",
    "\n",
    "#using the above declared dictionary i.e prime_nums\n",
    "#declaring a variable to store the sum \n",
    "total = 0\n",
    "\n",
    "#calculating the sum using for loop\n",
    "for i in prime_nums:\n",
    "    total += prime_nums[i]\n",
    "    \n",
    "#printing the sum\n",
    "print(f'The sum of all integers in prime_nums is: {total}')"
   ]
  },
  {
   "cell_type": "code",
   "execution_count": 16,
   "metadata": {},
   "outputs": [
    {
     "name": "stdout",
     "output_type": "stream",
     "text": [
      "[2, 5, 1]\n"
     ]
    }
   ],
   "source": [
    "# Write a program to identify duplicate values from list\n",
    "\n",
    "#create a list with duplicate values\n",
    "my_list = [2,5,1,7,2,8,9,1,3,5]\n",
    "size_of_my_list = len(my_list) \n",
    "duplicate_values = [] \n",
    "for i in range(size_of_my_list): \n",
    "    k = i + 1\n",
    "    for j in range(k, size_of_my_list): \n",
    "        if my_list[i] == my_list[j] and my_list[i] not in duplicate_values: \n",
    "            duplicate_values.append(my_list[i])\n",
    "print(duplicate_values)"
   ]
  },
  {
   "cell_type": "code",
   "execution_count": 21,
   "metadata": {},
   "outputs": [
    {
     "name": "stdout",
     "output_type": "stream",
     "text": [
      "3 exists in the dictionary.\n",
      "8 doesn't exist in the dictionary.\n",
      "0 doesn't exist in the dictionary.\n",
      "1 exists in the dictionary.\n"
     ]
    }
   ],
   "source": [
    "# Write a Python script to check if a given key already exists in a dictionary\n",
    "\n",
    "#using the prime_nunms dictionary that we've already created\n",
    "def key_presence(k):\n",
    "    if k in prime_nums:\n",
    "        print(f'{k} exists in the dictionary.')\n",
    "    else:\n",
    "        print(f'{k} doesn\\'t exist in the dictionary.')\n",
    "#testing/running/calling the function\n",
    "key_presence(3)\n",
    "key_presence(8)\n",
    "key_presence(0)\n",
    "key_presence(1)"
   ]
  },
  {
   "cell_type": "code",
   "execution_count": null,
   "metadata": {},
   "outputs": [],
   "source": []
  }
 ],
 "metadata": {
  "kernelspec": {
   "display_name": "Python 3",
   "language": "python",
   "name": "python3"
  },
  "language_info": {
   "codemirror_mode": {
    "name": "ipython",
    "version": 3
   },
   "file_extension": ".py",
   "mimetype": "text/x-python",
   "name": "python",
   "nbconvert_exporter": "python",
   "pygments_lexer": "ipython3",
   "version": "3.7.3"
  }
 },
 "nbformat": 4,
 "nbformat_minor": 2
}
