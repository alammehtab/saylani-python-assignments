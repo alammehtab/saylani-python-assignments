{
 "cells": [
  {
   "cell_type": "code",
   "execution_count": null,
   "metadata": {},
   "outputs": [],
   "source": [
    "# Question1:\n",
    "# Use a dictionary to store information about a person you know. Store their first name, last name, age, and the city\n",
    "# in which they live. You should have keys such as first_name, last_name, age, and city. Print each piece of information\n",
    "# stored in your dictionary.Add a new key value pair about qualification then update the qualification value to high \n",
    "# academic level then delete it."
   ]
  },
  {
   "cell_type": "code",
   "execution_count": 15,
   "metadata": {},
   "outputs": [],
   "source": [
    "# making dictionary\n",
    "person = {\n",
    "    'first_name' : 'Mehtab',\n",
    "    'last_name': 'Alam',\n",
    "    'age': 22,\n",
    "    'city': 'Karachi',\n",
    "};"
   ]
  },
  {
   "cell_type": "code",
   "execution_count": 16,
   "metadata": {},
   "outputs": [
    {
     "name": "stdout",
     "output_type": "stream",
     "text": [
      "first_name : Mehtab\n",
      "last_name : Alam\n",
      "age : 22\n",
      "city : Karachi\n"
     ]
    }
   ],
   "source": [
    "# printing the dictionary's values\n",
    "for key,value in person.items():\n",
    "    print(key,':',value)"
   ]
  },
  {
   "cell_type": "code",
   "execution_count": 21,
   "metadata": {},
   "outputs": [],
   "source": [
    "# adding new key value pair\n",
    "person['Qualification'] = 'Intermediate'"
   ]
  },
  {
   "cell_type": "code",
   "execution_count": 24,
   "metadata": {},
   "outputs": [],
   "source": [
    "# updating the qualification value\n",
    "person['Qualification'] = 'BS Software Engineering'"
   ]
  },
  {
   "cell_type": "code",
   "execution_count": 25,
   "metadata": {},
   "outputs": [],
   "source": [
    "# deleting qualification\n",
    "del person['Qualification']"
   ]
  },
  {
   "cell_type": "code",
   "execution_count": 27,
   "metadata": {},
   "outputs": [
    {
     "data": {
      "text/plain": [
       "{'first_name': 'Mehtab', 'last_name': 'Alam', 'age': 22, 'city': 'Karachi'}"
      ]
     },
     "execution_count": 27,
     "metadata": {},
     "output_type": "execute_result"
    }
   ],
   "source": [
    "# final output\n",
    "person"
   ]
  },
  {
   "cell_type": "code",
   "execution_count": 28,
   "metadata": {},
   "outputs": [],
   "source": [
    "# # Question2:\n",
    "# Make a dictionary called cities. Use the names of three cities as keys in your dictionary. Create a dictionary of information \n",
    "# about each city and include the country that the city is in, its approximate population, and one fact about that city. The keys\n",
    "# for each city’s dictionary should be something like country, population, and fact. Print the name of each city and all of the \n",
    "# information you have stored about it."
   ]
  },
  {
   "cell_type": "code",
   "execution_count": 35,
   "metadata": {},
   "outputs": [],
   "source": [
    "# creating cities dictionary\n",
    "cities = {\n",
    "    'Peshawar': {\n",
    "    'country': 'Pakistan',\n",
    "    'population':'1m',\n",
    "    'fact': 'The city of flowers'\n",
    "},\n",
    "    'London': {\n",
    "    'country': 'England',\n",
    "    'population':'2m',\n",
    "    'fact': 'Nawaz Sharif ka dil jeet chuka ha'\n",
    "},\n",
    "    'new_jersey': {\n",
    "    'country': 'US',\n",
    "    'population':'3m',\n",
    "    'fact': 'Chrissy Costanza waha rehti ha'\n",
    "},\n",
    "    \n",
    "}"
   ]
  },
  {
   "cell_type": "code",
   "execution_count": 42,
   "metadata": {},
   "outputs": [
    {
     "name": "stdout",
     "output_type": "stream",
     "text": [
      "Peshawar\n",
      "Population:  1m\n",
      "Fact: The City Of Flowers\n",
      "\n",
      "London\n",
      "Population:  2m\n",
      "Fact: Nawaz Sharif Ka Dil Jeet Chuka Ha\n",
      "\n",
      "New_Jersey\n",
      "Population:  3m\n",
      "Fact: Chrissy Costanza Waha Rehti Ha\n",
      "\n"
     ]
    }
   ],
   "source": [
    "# printing the values\n",
    "for key,value in cities.items():\n",
    "    country = value['country'].title()\n",
    "    population =value['population']\n",
    "    fact = value['fact'].title()\n",
    "    \n",
    "    print(key.title())\n",
    "    print('Population: ',population)\n",
    "    print('Fact:',fact)\n",
    "    print()"
   ]
  },
  {
   "cell_type": "code",
   "execution_count": 43,
   "metadata": {},
   "outputs": [],
   "source": [
    "# Question3:\n",
    "# A movie theater charges different ticket prices depending on a person’s age. If a person is under the age of 3, the ticket is \n",
    "# free; if they are between 3 and 12, the ticket is $10; and if they are over age 12, the ticket is $15. Write a loop in which \n",
    "# you ask users their age, and then tell them the cost of their movie ticket.\n"
   ]
  },
  {
   "cell_type": "code",
   "execution_count": null,
   "metadata": {},
   "outputs": [
    {
     "name": "stdout",
     "output_type": "stream",
     "text": [
      "Please enter your age here->3\n",
      "Congradulations, your ticket is free of cost!\n"
     ]
    }
   ],
   "source": [
    "while 1:\n",
    "    customer_age = int(input('Please enter your age here->'))\n",
    "    if customer_age <= 3:\n",
    "        print('Congradulations, your ticket is free of cost!')\n",
    "    elif customer_age > 3 and customer_age <= 12:\n",
    "        print('Your ticket costs $10.')\n",
    "    else:\n",
    "        print('Your ticket costs $15.')"
   ]
  },
  {
   "cell_type": "code",
   "execution_count": 1,
   "metadata": {},
   "outputs": [],
   "source": [
    "# Question4:\n",
    "# Write a function called favorite_book() that accepts one parameter, title. The function should print a message, such as One of\n",
    "# my favorite books is Alice in Wonderland. Call the function, making sure to include a book title as an argument in the function\n",
    "# call."
   ]
  },
  {
   "cell_type": "code",
   "execution_count": 2,
   "metadata": {},
   "outputs": [],
   "source": [
    "# defining function\n",
    "def favorite_book(title):\n",
    "    print('My all time favorite book is: '+title)\n"
   ]
  },
  {
   "cell_type": "code",
   "execution_count": 3,
   "metadata": {},
   "outputs": [
    {
     "name": "stdout",
     "output_type": "stream",
     "text": [
      "My all time favorite book is: Rich dad poor dad\n"
     ]
    }
   ],
   "source": [
    "# calling function\n",
    "favorite_book('Rich dad poor dad')"
   ]
  },
  {
   "cell_type": "code",
   "execution_count": 4,
   "metadata": {},
   "outputs": [],
   "source": [
    "# Question5:\n",
    "# Guess the number game\n",
    "# Write a program which randomly generate a number between 1 to 30 and ask the user in input field to guess the correct number.\n",
    "# Give three chances to user guess the number and also give hint to user if hidden number is greater or smaller than the number\n",
    "# he given to input field."
   ]
  },
  {
   "cell_type": "code",
   "execution_count": 1,
   "metadata": {},
   "outputs": [],
   "source": [
    "# importing random module\n",
    "import random as r\n",
    "\n",
    "# setting chance variable to 0\n",
    "chance = 0\n",
    "\n",
    "# generating a random number\n",
    "random_number = r.randrange(1,31)\n",
    "# logic\n",
    "while chance < 3:\n",
    "    user_guess = int(input('Please guess the number->'))\n",
    "    chance += 1\n",
    "    if user_guess != random_number and chance < 3:\n",
    "        print('Try again')\n",
    "    elif user_guess == random_number:\n",
    "        print('----------------------RESULT--------------------------')\n",
    "        print('Congradulations, you won!!!')\n",
    "        break"
   ]
  }
 ],
 "metadata": {
  "kernelspec": {
   "display_name": "Python 3",
   "language": "python",
   "name": "python3"
  },
  "language_info": {
   "codemirror_mode": {
    "name": "ipython",
    "version": 3
   },
   "file_extension": ".py",
   "mimetype": "text/x-python",
   "name": "python",
   "nbconvert_exporter": "python",
   "pygments_lexer": "ipython3",
   "version": "3.7.3"
  }
 },
 "nbformat": 4,
 "nbformat_minor": 2
}
