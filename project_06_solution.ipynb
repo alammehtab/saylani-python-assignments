{
 "cells": [
  {
   "cell_type": "code",
   "execution_count": null,
   "metadata": {},
   "outputs": [],
   "source": [
    "# # Define Object Oriented Programming Language?\n",
    "\n",
    "# An Object Oriented Programming Language is any programming language that uses OOP programming paradigm. OOP is totally the\n",
    "# concept of 'objects'."
   ]
  },
  {
   "cell_type": "code",
   "execution_count": 2,
   "metadata": {},
   "outputs": [],
   "source": [
    "# # List down the Benefits of OOP?\n",
    "\n",
    "# Following are the core benefits of OOP:\n",
    "#     Code reusability\n",
    "#     No redundancy (or comparatively less)\n",
    "#     Modularity\n",
    "#     Easy to debug code\n",
    "#     Easy to alter code\n",
    "#     Better quality programs"
   ]
  },
  {
   "cell_type": "code",
   "execution_count": 3,
   "metadata": {},
   "outputs": [],
   "source": [
    "# # Differentiate between function and method?\n",
    "# FUNCTION:\n",
    "#     Function is a block of code that performs a specific task.\n",
    "\n",
    "# METHOD:\n",
    "#     Function that belongs to a class/inside a class."
   ]
  },
  {
   "cell_type": "code",
   "execution_count": 4,
   "metadata": {},
   "outputs": [],
   "source": [
    "# Define the following terms:\n",
    "# 1. Class\n",
    "# 2. Object\n",
    "# 3. Attribute\n",
    "# 4. Behavior\n",
    "# ===================\n",
    "# Class:\n",
    "#     Class is a blueprint/template/collection of related data.\n",
    "# Object:\n",
    "#     It is a copy of the class(template/blueprint)\n",
    "# Attribute:\n",
    "#     It is a variable inside a class.\n",
    "# Behaviour:\n",
    "#     It is the function/method inside a class.\n"
   ]
  },
  {
   "cell_type": "code",
   "execution_count": 5,
   "metadata": {},
   "outputs": [],
   "source": [
    "# Write a code in python in which create a class named it Car which\n",
    "# have 5 attributes such like (model, color and name etc.) and 3\n",
    "# methods. And create 5 object instance from that class."
   ]
  },
  {
   "cell_type": "code",
   "execution_count": 17,
   "metadata": {},
   "outputs": [],
   "source": [
    "class Car():\n",
    "    def __init__(self, model, color, name):\n",
    "        self.model = model\n",
    "        self.color = color\n",
    "        self.name = name\n",
    "    \n",
    "    def print_model(self):\n",
    "        print('The model of your car is: ',self.model)\n",
    "    def print_color(self):\n",
    "        print('The color of your car is: ',self.color)\n",
    "    def print_name(self):\n",
    "        print('The name of your car is: ',self.name)\n",
    "\n",
    "c1 = Car(2009,'Black','Cultus')\n",
    "c2 = Car(2019, 'Red', 'Corolla')\n",
    "c2 = Car(2000, 'White', 'Alto')"
   ]
  },
  {
   "cell_type": "code",
   "execution_count": null,
   "metadata": {},
   "outputs": [],
   "source": []
  }
 ],
 "metadata": {
  "kernelspec": {
   "display_name": "Python 3",
   "language": "python",
   "name": "python3"
  },
  "language_info": {
   "codemirror_mode": {
    "name": "ipython",
    "version": 3
   },
   "file_extension": ".py",
   "mimetype": "text/x-python",
   "name": "python",
   "nbconvert_exporter": "python",
   "pygments_lexer": "ipython3",
   "version": "3.7.3"
  }
 },
 "nbformat": 4,
 "nbformat_minor": 2
}
